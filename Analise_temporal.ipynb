{
  "nbformat": 4,
  "nbformat_minor": 0,
  "metadata": {
    "colab": {
      "provenance": [],
      "mount_file_id": "https://github.com/lucasat2/Ci-ncia-de-dados/blob/main/Analise_temporal.ipynb",
      "authorship_tag": "ABX9TyMZbcJ7yC8Jh6c615K1SHQe",
      "include_colab_link": true
    },
    "kernelspec": {
      "name": "python3",
      "display_name": "Python 3"
    },
    "language_info": {
      "name": "python"
    }
  },
  "cells": [
    {
      "cell_type": "markdown",
      "metadata": {
        "id": "view-in-github",
        "colab_type": "text"
      },
      "source": [
        "<a href=\"https://colab.research.google.com/github/lucasat2/Ci-ncia-de-dados/blob/main/Analise_temporal.ipynb\" target=\"_parent\"><img src=\"https://colab.research.google.com/assets/colab-badge.svg\" alt=\"Open In Colab\"/></a>"
      ]
    },
    {
      "cell_type": "markdown",
      "source": [
        "Precisamos sempre ter um historico de dados antes de analisar alguma coisa, senao nao da"
      ],
      "metadata": {
        "id": "u_BuV2_urChA"
      }
    },
    {
      "cell_type": "markdown",
      "source": [],
      "metadata": {
        "id": "64NV-YNhtmzO"
      }
    },
    {
      "cell_type": "code",
      "source": [
        "import pandas as pd\n",
        "import numpy as np\n",
        "import matplotlib.pyplot as plt\n",
        "import seaborn as sns\n",
        "from statsmodels.tsa.holtwinters import SimpleExpSmoothing"
      ],
      "metadata": {
        "id": "TjyHmDowrSVv"
      },
      "execution_count": 4,
      "outputs": []
    },
    {
      "cell_type": "code",
      "source": [
        "df_dsa = pd.read_csv('/content/drive/MyDrive/Colab Notebooks/dataset.csv')"
      ],
      "metadata": {
        "id": "hxBb7veT253q"
      },
      "execution_count": 8,
      "outputs": []
    }
  ]
}